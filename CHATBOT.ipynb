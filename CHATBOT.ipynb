{
 "cells": [
  {
   "cell_type": "code",
   "execution_count": null,
   "id": "bfc912d1",
   "metadata": {},
   "outputs": [],
   "source": [
    "import numpy as np\n",
    "import string\n",
    "import nltk\n",
    "import random"
   ]
  },
  {
   "cell_type": "code",
   "execution_count": null,
   "id": "7be6d7cf",
   "metadata": {},
   "outputs": [],
   "source": [
    "f=open('data.txt','r',errors='ignore')\n",
    "doc=f.read()\n",
    "doc=doc.lower()\n",
    "nltk.download('punkt')\n",
    "nltk.download('wordnet')\n",
    "send_tok=nltk.sent_tokenize(doc)\n",
    "word_tok=nltk.word_tokenize(doc)"
   ]
  },
  {
   "cell_type": "code",
   "execution_count": null,
   "id": "ecbc5f19",
   "metadata": {},
   "outputs": [],
   "source": [
    "send_tok[:2]"
   ]
  },
  {
   "cell_type": "code",
   "execution_count": null,
   "id": "816d92b0",
   "metadata": {},
   "outputs": [],
   "source": [
    "word_tok[:2]"
   ]
  },
  {
   "cell_type": "code",
   "execution_count": null,
   "id": "6a7c236e",
   "metadata": {},
   "outputs": [],
   "source": [
    "lemer=nltk.stem.WordNetLemmatizer()\n",
    "def LemTokens(tokens):\n",
    "    return[lemer.lemmatize(token) for token in tokens]\n",
    "rem_punct_dict=dict((ord(punct),None) for punct in string.punctuation)\n",
    "def LemNormalize(text):\n",
    "    return LemTokens(nltk.word_tokenize(text.lower().translate(rem_punct_dict)))"
   ]
  },
  {
   "cell_type": "code",
   "execution_count": null,
   "id": "18e767ad",
   "metadata": {},
   "outputs": [],
   "source": [
    "Greet_inp=(\"hello\",\"hi\",\"sup\",\"greetings\",\"what's up\",\"hey\")\n",
    "Greet_resp=[\"hi\",\"hey\",\"*nods*\",\"hi there\",'HI','HELLO','GOOD TO SEE YOU','VANAKKAM','Welcome','HOWDY','HELLO STRANGER','HI THERE','WHATS UP']\n",
    "def greet(sentence):\n",
    "    for word in sentence.split():\n",
    "        if word.lower() in Greet_inp:\n",
    "            return random.choice(Greet_resp)"
   ]
  },
  {
   "cell_type": "code",
   "execution_count": null,
   "id": "c0001e86",
   "metadata": {},
   "outputs": [],
   "source": [
    "from sklearn.feature_extraction.text import TfidfVectorizer\n",
    "from sklearn.metrics.pairwise import cosine_similarity"
   ]
  },
  {
   "cell_type": "code",
   "execution_count": null,
   "id": "90945dd6",
   "metadata": {},
   "outputs": [],
   "source": [
    "def resp(user_resp):\n",
    "    robol_resp=''\n",
    "    TfidVec=TfidfVectorizer(tokenizer=LemNormalize,stop_words='english')\n",
    "    tfidf = TfidVec.fit_transform(send_tok)\n",
    "    vals=cosine_similarity(tfidf[-1],tfidf)\n",
    "    idx=vals.argsort()[0][-2]\n",
    "    flat=vals.flatten()\n",
    "    flat.sort()\n",
    "    req_tfidf=flat[-2]\n",
    "    if(req_tfidf==0):\n",
    "        robol_resp=robol_resp+\"I am Sorry! I don't have so much data\"\n",
    "        return robol_resp\n",
    "    else:\n",
    "        robol_resp=robol_resp+send_tok[idx]\n",
    "        return robol_resp"
   ]
  },
  {
   "cell_type": "code",
   "execution_count": null,
   "id": "b7ed4c33",
   "metadata": {},
   "outputs": [],
   "source": [
    "flag=True\n",
    "print(\"BOT: I am Friday 1.1 A small chatbot created by sarang\")\n",
    "while(flag==True):\n",
    "    user_resp=input().lower()\n",
    "    if(user_resp!='bye' and user_resp!='quit' and user_resp!='q'):\n",
    "        if(user_resp==\"thanks\" or user_resp==\"thank you\"):\n",
    "            flag = False\n",
    "            print(\"BOT: You are welcome...\")\n",
    "        elif(user_resp==\"how are you\"):\n",
    "            print(\"BOT: I am Fine\")\n",
    "        else:\n",
    "            if(greet(user_resp)!=None):\n",
    "                print(\"BOT: \"+greet(user_resp))\n",
    "            else:\n",
    "                send_tok.append(user_resp)\n",
    "                word_tok=word_tok + nltk.word_tokenize(user_resp)\n",
    "                final_words=list(set(word_tok))\n",
    "                print(\"BOT: \",end=\"\")\n",
    "                print(resp(user_resp))\n",
    "                send_tok.remove(user_resp)\n",
    "    else:\n",
    "        flag=False\n",
    "        print(\"BOT: GoodBye! Visit Again :)\")\n",
    "    "
   ]
  },
  {
   "cell_type": "code",
   "execution_count": null,
   "id": "f7a610ef",
   "metadata": {},
   "outputs": [],
   "source": [
    "import nltk\n",
    "nltk.download('omw-1.4')"
   ]
  },
  {
   "cell_type": "code",
   "execution_count": null,
   "id": "483efbaf",
   "metadata": {},
   "outputs": [],
   "source": []
  },
  {
   "cell_type": "code",
   "execution_count": null,
   "id": "dbbcbbe3",
   "metadata": {},
   "outputs": [],
   "source": []
  },
  {
   "cell_type": "code",
   "execution_count": null,
   "id": "8e2f0d40",
   "metadata": {},
   "outputs": [],
   "source": []
  }
 ],
 "metadata": {
  "kernelspec": {
   "display_name": "Python 3 (ipykernel)",
   "language": "python",
   "name": "python3"
  },
  "language_info": {
   "codemirror_mode": {
    "name": "ipython",
    "version": 3
   },
   "file_extension": ".py",
   "mimetype": "text/x-python",
   "name": "python",
   "nbconvert_exporter": "python",
   "pygments_lexer": "ipython3",
   "version": "3.9.12"
  }
 },
 "nbformat": 4,
 "nbformat_minor": 5
}
